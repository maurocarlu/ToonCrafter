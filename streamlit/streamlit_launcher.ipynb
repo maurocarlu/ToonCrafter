{
    "cells": [
        {
            "cell_type": "markdown",
            "metadata": {},
            "source": [
                "# 🚀 Streamlit Launcher per la Pipeline Manga-to-Anime\n",
                "\n",
                "Questo notebook prepara l'ambiente Colab e lancia l'applicazione Streamlit tramite `ngrok` per renderla accessibile pubblicamente."
            ]
        },
        {
            "cell_type": "code",
            "execution_count": null,
            "metadata": {},
            "outputs": [],
            "source": [
                "# Step 1: Clona il tuo repository GitHub\n",
                "# Assicurati che l'URL sia corretto e che il repository sia pubblico.\n",
                "!git clone https://github.com/maurocarlu/ToonCrafter.git\n",
                "%cd ToonCrafter\n"
            ]
        },
        {
            "cell_type": "code",
            "execution_count": null,
            "metadata": {},
            "outputs": [],
            "source": [
                "# Step 2: Installa tutte le dipendenze dal file requirements.txt\n",
                "# Questo processo può richiedere alcuni minuti.\n",
                "!pip install -r requirements.txt\n"
            ]
        },
        {
            "cell_type": "code",
            "execution_count": null,
            "metadata": {},
            "outputs": [],
            "source": [
                "# Aggiungi in una cella/entrypoint prima di importare scikit-video o librerie legacy\n",
                "import numpy as _np\n",
                "if not hasattr(_np, \"float\"):\n",
                "    _np.float = float\n",
                "    _np.int = int\n",
                "    _np.complex = complex\n",
                "    _np.bool = bool\n",
                "    _np.object = object"
            ]
        },
        {
            "cell_type": "code",
            "execution_count": null,
            "metadata": {},
            "outputs": [],
            "source": [
                "# Step 3: Avvia Streamlit con ngrok (Colab)\n",
                "import os, time, subprocess, requests, sys\n",
                "from pyngrok import ngrok\n",
                "\n",
                "# (Opzionale) Incolla il tuo token ngrok per sessioni più stabili\n",
                "NGROK_AUTH_TOKEN = \"32TyeKBnn1AXBPbExme5USEWkFi_eh9PZv8UXAbTXhiG2mAr\"  # <-- TOKEN (opzionale)\n",
                "\n",
                "# Chiudi eventuali tunnel/processi precedenti\n",
                "try:\n",
                "    ngrok.kill()\n",
                "except Exception:\n",
                "    pass\n",
                "\n",
                "# Imposta token se presente\n",
                "if NGROK_AUTH_TOKEN:\n",
                "    ngrok.set_auth_token(NGROK_AUTH_TOKEN)\n",
                "\n",
                "# Avvia Streamlit in modalità headless su 0.0.0.0:8501\n",
                "env = os.environ.copy()\n",
                "cmd = [\n",
                "    sys.executable, \"-m\", \"streamlit\", \"run\", \"app.py\",\n",
                "    \"--server.port\", \"8501\",\n",
                "    \"--server.address\", \"0.0.0.0\",\n",
                "    \"--server.headless\", \"true\",\n",
                "    \"--browser.gatherUsageStats\", \"false\",\n",
                "]\n",
                "proc = subprocess.Popen(cmd, stdout=subprocess.PIPE, stderr=subprocess.STDOUT, text=True)\n",
                "\n",
                "# Attendi che Streamlit sia pronto\n",
                "print(\"Avvio di Streamlit in corso...\")\n",
                "ready = False\n",
                "for _ in range(60):\n",
                "    try:\n",
                "        r = requests.get(\"http://127.0.0.1:8501/healthz\", timeout=2)\n",
                "        if r.ok:\n",
                "            ready = True\n",
                "            break\n",
                "    except Exception:\n",
                "        pass\n",
                "    time.sleep(1)\n",
                "\n",
                "if not ready:\n",
                "    print(\"⚠️ Streamlit non ha risposto in tempo. Mostro gli ultimi log:\")\n",
                "    try:\n",
                "        # stampa qualcosa dai log\n",
                "        for _ in range(50):\n",
                "            line = proc.stdout.readline()\n",
                "            if not line:\n",
                "                break\n",
                "            print(line, end=\"\")\n",
                "    except Exception:\n",
                "        pass\n",
                "\n",
                "print(\"Creazione del tunnel ngrok...\")\n",
                "tunnel = ngrok.connect(addr=8501, proto=\"http\", bind_tls=True)\n",
                "public_url = tunnel.public_url\n",
                "print(\"\\n\" + \"=\"*70)\n",
                "print(\"🚀 LA TUA APP È ONLINE (ngrok):\")\n",
                "print(public_url)\n",
                "print(\"=\"*70)\n",
                "print(\"Lascia in esecuzione questa cella. Per fermare: Interrompi esecuzione.\")\n",
                "\n",
                "# Mantieni la cella viva finché il processo è attivo\n",
                "try:\n",
                "    while proc.poll() is None:\n",
                "        time.sleep(5)\n",
                "except KeyboardInterrupt:\n",
                "    print(\"Interruzione richiesta. Chiudo ngrok e Streamlit...\")\n",
                "finally:\n",
                "    try:\n",
                "        ngrok.kill()\n",
                "    except Exception:\n",
                "        pass\n",
                "    try:\n",
                "        proc.terminate()\n",
                "    except Exception:\n",
                "        pass"
            ]
        }
    ],
    "metadata": {
        "language_info": {
            "name": "python"
        }
    },
    "nbformat": 4,
    "nbformat_minor": 2
}
